{
 "cells": [
  {
   "cell_type": "code",
   "execution_count": 1,
   "metadata": {},
   "outputs": [],
   "source": [
    "import os\n",
    "os.environ[\"KMP_DUPLICATE_LIB_OK\"]=\"TRUE\"\n",
    "import datetime\n",
    "import warnings\n",
    "warnings.filterwarnings(\"ignore\")\n",
    "from AccoMontage import set_premises, load_lead_sheet, phrase_selection, re_harmonization, matrix2leadsheet"
   ]
  },
  {
   "cell_type": "code",
   "execution_count": 2,
   "metadata": {},
   "outputs": [
    {
     "name": "stdout",
     "output_type": "stream",
     "text": [
      "Loading reference data (texture donors) from POP909. This may takes several seconds of time ...\n"
     ]
    },
    {
     "name": "stderr",
     "output_type": "stream",
     "text": [
      "100%|██████████| 16/16 [00:06<00:00,  2.52it/s]\n"
     ]
    }
   ],
   "source": [
    "phrase_data_dir = 'checkpoints/phrase_data.npz'\n",
    "edge_weights_dir = 'checkpoints/edge_weights.npz'\n",
    "checkpoint_dir = 'checkpoints/model_master_final.pt'\n",
    "pop909_meta_dir = 'checkpoints/pop909_quadraple_meters_index.xlsx'\n",
    "\n",
    "print('Loading reference data (texture donors) from POP909. This may takes several seconds of time ...')\n",
    "model, acc_pool, reference_check, params = pre_liminary = set_premises(phrase_data_dir, edge_weights_dir, checkpoint_dir, pop909_meta_dir)"
   ]
  },
  {
   "cell_type": "code",
   "execution_count": 4,
   "metadata": {},
   "outputs": [
    {
     "name": "stdout",
     "output_type": "stream",
     "text": [
      "Phrase selection begins: 4 phrases in total. \n",
      "\t Set note density filter: (4, 2).\n"
     ]
    },
    {
     "name": "stderr",
     "output_type": "stream",
     "text": [
      "100%|██████████| 3/3 [00:06<00:00,  2.02s/it]\n"
     ]
    },
    {
     "name": "stdout",
     "output_type": "stream",
     "text": [
      "Reference pieces: ['0: 659_相思河', '1: 557_残酷月光', '2: 544_柠檬草的味道', '3: 526_月亮代表我的心']\n",
      "Result saved at ./demo\\Auld Lang Syne\\piano_arrangement_20230528_131834.mid\n"
     ]
    }
   ],
   "source": [
    "#specify lead sheet meta\n",
    "DEMO_ROOT, SONG_NAME, SEGMENTATION, PICK_UP_BEAT, TEMPO = './demo', 'Auld Lang Syne', 'A8B8A8B8', 1.0, 75\n",
    "#specify params for phrase selection\n",
    "SPOTLIGHT = None\n",
    "PREFILTER = (4, 2)\n",
    "RANDOMENESS = 0.1\n",
    "\n",
    "#load lead sheet\n",
    "lead_sheet, chord_roll, phrase_label = load_lead_sheet(DEMO_ROOT, SONG_NAME, SEGMENTATION, PICK_UP_BEAT, melody_track_ID=0)\n",
    "#midi_recon = matrix2leadsheet(lead_sheet).write(os.path.join(DEMO_ROOT, SONG_NAME, 'lead_sheet_recon.mid'))\n",
    "\n",
    "#phrase selection\n",
    "selection = phrase_selection(lead_sheet, phrase_label, reference_check, acc_pool, *params, PREFILTER, SPOTLIGHT, randomness=RANDOMENESS)\n",
    "\n",
    "#re-harmonization\n",
    "midi = re_harmonization(lead_sheet, chord_roll, phrase_label, *selection, model, acc_pool, tempo=TEMPO)\n",
    "\n",
    "#save piano arrangement resault\n",
    "time = datetime.datetime.now().strftime(\"%Y%m%d_%H%M%S\")\n",
    "save_path = os.path.join(DEMO_ROOT, SONG_NAME, f'piano_arrangement_{time}.mid')\n",
    "midi.write(save_path)\n",
    "print('Result saved at', save_path)"
   ]
  },
  {
   "cell_type": "code",
   "execution_count": 6,
   "metadata": {},
   "outputs": [
    {
     "name": "stdout",
     "output_type": "stream",
     "text": [
      "Phrase selection begins: 4 phrases in total. \n",
      "\t Set note density filter: (4, 1).\n",
      "\t Refer to [322, 346] as much as possible\n"
     ]
    },
    {
     "name": "stderr",
     "output_type": "stream",
     "text": [
      "100%|██████████| 3/3 [00:11<00:00,  3.68s/it]\n"
     ]
    },
    {
     "name": "stdout",
     "output_type": "stream",
     "text": [
      "Reference pieces: ['0: 322_寂寞沙洲冷', '1: 322_寂寞沙洲冷', '2: 346_平凡之路', '3: 346_平凡之路']\n",
      "Result saved at ./demo\\Castles in the Air\\piano_arrangement_20230528_132335.mid\n"
     ]
    }
   ],
   "source": [
    "#specify lead sheet meta\n",
    "DEMO_ROOT, SONG_NAME, SEGMENTATION, PICK_UP_BEAT, TEMPO = './demo', 'Castles in the Air', 'A8A8B8B8', 1.0, 120\n",
    "#specify params for phrase selection\n",
    "SPOTLIGHT = [322, 346] \n",
    "PREFILTER = (4, 1)\n",
    "RANDOMENESS = 0\n",
    "\n",
    "#load lead sheet\n",
    "lead_sheet, chord_roll, phrase_label = load_lead_sheet(DEMO_ROOT, SONG_NAME, SEGMENTATION, PICK_UP_BEAT, melody_track_ID=0)\n",
    "#midi_recon = matrix2leadsheet(lead_sheet).write(os.path.join(DEMO_ROOT, SONG_NAME, 'lead_sheet_recon.mid'))\n",
    "\n",
    "#phrase selection\n",
    "selection = phrase_selection(lead_sheet, phrase_label, reference_check, acc_pool, *params, PREFILTER, SPOTLIGHT, randomness=RANDOMENESS)\n",
    "\n",
    "#re-harmonization\n",
    "midi = re_harmonization(lead_sheet, chord_roll, phrase_label, *selection, model, acc_pool, tempo=TEMPO)\n",
    "\n",
    "#save piano arrangement resault\n",
    "time = datetime.datetime.now().strftime(\"%Y%m%d_%H%M%S\")\n",
    "save_path = os.path.join(DEMO_ROOT, SONG_NAME, f'piano_arrangement_{time}.mid')\n",
    "midi.write(save_path)\n",
    "print('Result saved at', save_path)"
   ]
  },
  {
   "cell_type": "code",
   "execution_count": 3,
   "metadata": {},
   "outputs": [
    {
     "name": "stdout",
     "output_type": "stream",
     "text": [
      "Phrase selection begins: 3 phrases in total. \n",
      "\t Set note density filter: (3, 3).\n"
     ]
    },
    {
     "name": "stderr",
     "output_type": "stream",
     "text": [
      "100%|██████████| 2/2 [00:06<00:00,  3.03s/it]\n"
     ]
    },
    {
     "name": "stdout",
     "output_type": "stream",
     "text": [
      "Reference pieces: ['0: 347_幸福的瞬间', '1: 345_带走', '2: 345_带走']\n",
      "Result saved at ./demo\\Cuillin Reel\\piano_arrangement_20230528_132657.mid\n"
     ]
    }
   ],
   "source": [
    "#specify lead sheet meta\n",
    "DEMO_ROOT, SONG_NAME, SEGMENTATION, PICK_UP_BEAT, TEMPO = './demo', 'Cuillin Reel', 'A8B8B8', 1.0, 120\n",
    "#specify params for phrase selection\n",
    "SPOTLIGHT = None\n",
    "PREFILTER = (3, 3)\n",
    "RANDOMENESS = 0.1\n",
    "\n",
    "#load lead sheet\n",
    "lead_sheet, chord_roll, phrase_label = load_lead_sheet(DEMO_ROOT, SONG_NAME, SEGMENTATION, PICK_UP_BEAT, melody_track_ID=0)\n",
    "#midi_recon = matrix2leadsheet(lead_sheet).write(os.path.join(DEMO_ROOT, SONG_NAME, 'lead_sheet_recon.mid'))\n",
    "\n",
    "#phrase selection\n",
    "selection = phrase_selection(lead_sheet, phrase_label, reference_check, acc_pool, *params, PREFILTER, SPOTLIGHT, randomness=RANDOMENESS)\n",
    "\n",
    "#re-harmonization\n",
    "midi = re_harmonization(lead_sheet, chord_roll, phrase_label, *selection, model, acc_pool, tempo=TEMPO)\n",
    "\n",
    "#save piano arrangement resault\n",
    "time = datetime.datetime.now().strftime(\"%Y%m%d_%H%M%S\")\n",
    "save_path = os.path.join(DEMO_ROOT, SONG_NAME, f'piano_arrangement_{time}.mid')\n",
    "midi.write(save_path)\n",
    "print('Result saved at', save_path)"
   ]
  },
  {
   "cell_type": "code",
   "execution_count": 4,
   "metadata": {},
   "outputs": [
    {
     "name": "stdout",
     "output_type": "stream",
     "text": [
      "Phrase selection begins: 16 phrases in total. \n",
      "\t Set note density filter: (4, 2).\n",
      "\t Refer to ['小龙人'] as much as possible\n"
     ]
    },
    {
     "name": "stderr",
     "output_type": "stream",
     "text": [
      "100%|██████████| 15/15 [00:34<00:00,  2.30s/it]\n"
     ]
    },
    {
     "name": "stdout",
     "output_type": "stream",
     "text": [
      "Reference pieces: ['0: 907_小龙人', '1: 907_小龙人', '2: 907_小龙人', '3: 907_小龙人', '4: 907_小龙人', '5: 907_小龙人', '6: 438_我是一只鱼', '7: 265_在深秋', '8: 907_小龙人', '9: 907_小龙人', '10: 907_小龙人', '11: 907_小龙人', '12: 907_小龙人', '13: 907_小龙人', '14: 830_酒醉的探戈2001', '15: 265_在深秋']\n",
      "Result saved at ./demo\\ECNU Alma Mater Music\\piano_arrangement_20230528_132959.mid\n"
     ]
    }
   ],
   "source": [
    "#specify lead sheet meta\n",
    "DEMO_ROOT, SONG_NAME, SEGMENTATION, PICK_UP_BEAT, TEMPO = './demo', 'ECNU Alma Mater Music', 'A8A8B8B8C8D8E4F6A8A8B8B8C8D8E4F6', 0, 106\n",
    "#specify params for phrase selection\n",
    "SPOTLIGHT = ['小龙人']\n",
    "PREFILTER = (4, 2)\n",
    "RANDOMENESS = 0.1\n",
    "\n",
    "#load lead sheet\n",
    "lead_sheet, chord_roll, phrase_label = load_lead_sheet(DEMO_ROOT, SONG_NAME, SEGMENTATION, PICK_UP_BEAT, melody_track_ID=0)\n",
    "#midi_recon = matrix2leadsheet(lead_sheet).write(os.path.join(DEMO_ROOT, SONG_NAME, 'lead_sheet_recon.mid'))\n",
    "\n",
    "#phrase selection\n",
    "selection = phrase_selection(lead_sheet, phrase_label, reference_check, acc_pool, *params, PREFILTER, SPOTLIGHT, randomness=RANDOMENESS)\n",
    "\n",
    "#re-harmonization\n",
    "midi = re_harmonization(lead_sheet, chord_roll, phrase_label, *selection, model, acc_pool, tempo=TEMPO)\n",
    "\n",
    "#save piano arrangement resault\n",
    "time = datetime.datetime.now().strftime(\"%Y%m%d_%H%M%S\")\n",
    "save_path = os.path.join(DEMO_ROOT, SONG_NAME, f'piano_arrangement_{time}.mid')\n",
    "midi.write(save_path)\n",
    "print('Result saved at', save_path)"
   ]
  },
  {
   "cell_type": "code",
   "execution_count": 11,
   "metadata": {},
   "outputs": [
    {
     "name": "stdout",
     "output_type": "stream",
     "text": [
      "Phrase selection begins: 11 phrases in total. \n",
      "\t Set note density filter: (3, 4).\n"
     ]
    },
    {
     "name": "stderr",
     "output_type": "stream",
     "text": [
      "100%|██████████| 10/10 [00:11<00:00,  1.18s/it]\n"
     ]
    },
    {
     "name": "stdout",
     "output_type": "stream",
     "text": [
      "Reference pieces: ['0: 511_春风十里', '1: 683_空城', '2: 645_电台情歌', '3: 852_难道爱一个人有错吗', '4: 636_玫瑰花的葬礼', '5: 908_小乌龟', '6: 523_曾经是我最爱的人', '7: 862_青花', '8: 659_相思河', '9: 138_你牛什么牛', '10: 712_红玫瑰']\n",
      "Result saved at ./demo\\Let It Be\\piano_arrangement_20230528_134458.mid\n"
     ]
    }
   ],
   "source": [
    "#specify lead sheet meta\n",
    "DEMO_ROOT, SONG_NAME, SEGMENTATION, PICK_UP_BEAT, MELODY_TRACK_ID, TEMPO = './demo', 'Let It Be', 'i4A8B4A8B8x12B4A8B8B4x2', 0, 9, 75\n",
    "#specify params for phrase selection\n",
    "SPOTLIGHT = None\n",
    "PREFILTER = (3, 4)\n",
    "RANDOMENESS = 0.1\n",
    "\n",
    "#load lead sheet\n",
    "lead_sheet, chord_roll, phrase_label = load_lead_sheet(DEMO_ROOT, SONG_NAME, SEGMENTATION, PICK_UP_BEAT, melody_track_ID=MELODY_TRACK_ID)\n",
    "#midi_recon = matrix2leadsheet(lead_sheet).write(os.path.join(DEMO_ROOT, SONG_NAME, 'lead_sheet_recon.mid'))\n",
    "\n",
    "#phrase selection\n",
    "selection = phrase_selection(lead_sheet, phrase_label, reference_check, acc_pool, *params, PREFILTER, SPOTLIGHT, randomness=RANDOMENESS)\n",
    "\n",
    "#re-harmonization\n",
    "midi = re_harmonization(lead_sheet, chord_roll, phrase_label, *selection, model, acc_pool, tempo=TEMPO)\n",
    "\n",
    "#save piano arrangement resault\n",
    "time = datetime.datetime.now().strftime(\"%Y%m%d_%H%M%S\")\n",
    "save_path = os.path.join(DEMO_ROOT, SONG_NAME, f'piano_arrangement_{time}.mid')\n",
    "midi.write(save_path)\n",
    "print('Result saved at', save_path)"
   ]
  },
  {
   "cell_type": "code",
   "execution_count": null,
   "metadata": {},
   "outputs": [],
   "source": []
  }
 ],
 "metadata": {
  "kernelspec": {
   "display_name": "torch1.9",
   "language": "python",
   "name": "python3"
  },
  "language_info": {
   "codemirror_mode": {
    "name": "ipython",
    "version": 3
   },
   "file_extension": ".py",
   "mimetype": "text/x-python",
   "name": "python",
   "nbconvert_exporter": "python",
   "pygments_lexer": "ipython3",
   "version": "3.8.12"
  },
  "orig_nbformat": 4
 },
 "nbformat": 4,
 "nbformat_minor": 2
}
